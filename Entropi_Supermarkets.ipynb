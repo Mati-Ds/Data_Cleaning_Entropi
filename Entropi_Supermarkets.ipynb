{
 "cells": [
  {
   "cell_type": "code",
   "execution_count": 192,
   "id": "186449e3-1cb4-4049-b905-2340d7bc416e",
   "metadata": {},
   "outputs": [],
   "source": [
    "# Loading the dataset and Importing the neccesary libraries\n",
    "import pandas as pd\n",
    "import matplotlib.pyplot as plt\n",
    "import seaborn as sns\n",
    "path =  r\"C:\\Users\\USER\\Downloads\\entropi_supermarkets_data.csv\"\n",
    "df = pd.read_csv(path)  "
   ]
  },
  {
   "cell_type": "code",
   "execution_count": 193,
   "id": "77a20466-1bbf-476e-9264-3c8ebbec2313",
   "metadata": {},
   "outputs": [
    {
     "data": {
      "text/plain": [
       "(6435, 13)"
      ]
     },
     "execution_count": 193,
     "metadata": {},
     "output_type": "execute_result"
    }
   ],
   "source": [
    "# Checking for data shape\n",
    "df.shape"
   ]
  },
  {
   "cell_type": "code",
   "execution_count": 194,
   "id": "73f99407-9d56-4d14-821a-fc4b30f2e752",
   "metadata": {},
   "outputs": [
    {
     "data": {
      "text/html": [
       "<div>\n",
       "<style scoped>\n",
       "    .dataframe tbody tr th:only-of-type {\n",
       "        vertical-align: middle;\n",
       "    }\n",
       "\n",
       "    .dataframe tbody tr th {\n",
       "        vertical-align: top;\n",
       "    }\n",
       "\n",
       "    .dataframe thead th {\n",
       "        text-align: right;\n",
       "    }\n",
       "</style>\n",
       "<table border=\"1\" class=\"dataframe\">\n",
       "  <thead>\n",
       "    <tr style=\"text-align: right;\">\n",
       "      <th></th>\n",
       "      <th>Store</th>\n",
       "      <th>Date</th>\n",
       "      <th>Weekly_Sales</th>\n",
       "      <th>Holiday_Flag</th>\n",
       "      <th>Temperature</th>\n",
       "      <th>Fuel_Price</th>\n",
       "      <th>CPI</th>\n",
       "      <th>Unemployment</th>\n",
       "      <th>Product_Category</th>\n",
       "      <th>Profit</th>\n",
       "      <th>Quantity</th>\n",
       "      <th>Mode_of_Sale</th>\n",
       "      <th>Mode_of_Payment</th>\n",
       "    </tr>\n",
       "  </thead>\n",
       "  <tbody>\n",
       "    <tr>\n",
       "      <th>0</th>\n",
       "      <td>Mutare</td>\n",
       "      <td>2025-01-28</td>\n",
       "      <td>166381.87</td>\n",
       "      <td>1</td>\n",
       "      <td>16.2</td>\n",
       "      <td>3.72</td>\n",
       "      <td>138.79</td>\n",
       "      <td>3.5</td>\n",
       "      <td>NaN</td>\n",
       "      <td>560.86</td>\n",
       "      <td>1.0</td>\n",
       "      <td>In-Store</td>\n",
       "      <td>NaN</td>\n",
       "    </tr>\n",
       "    <tr>\n",
       "      <th>1</th>\n",
       "      <td>Mbeya</td>\n",
       "      <td>2024-04-05</td>\n",
       "      <td>187928.14</td>\n",
       "      <td>1</td>\n",
       "      <td>11.9</td>\n",
       "      <td>1.09</td>\n",
       "      <td>107.19</td>\n",
       "      <td>12.2</td>\n",
       "      <td>Furniture</td>\n",
       "      <td>1371.46</td>\n",
       "      <td>7.0</td>\n",
       "      <td>NaN</td>\n",
       "      <td>Card Payment</td>\n",
       "    </tr>\n",
       "    <tr>\n",
       "      <th>2</th>\n",
       "      <td>Chimoio</td>\n",
       "      <td>2022-05-28</td>\n",
       "      <td>unknown</td>\n",
       "      <td>1</td>\n",
       "      <td>15.1</td>\n",
       "      <td>3.88</td>\n",
       "      <td>103.33</td>\n",
       "      <td>7.7</td>\n",
       "      <td>Beverages</td>\n",
       "      <td>24.50</td>\n",
       "      <td>7.0</td>\n",
       "      <td>NaN</td>\n",
       "      <td>NaN</td>\n",
       "    </tr>\n",
       "    <tr>\n",
       "      <th>3</th>\n",
       "      <td>Gaborone</td>\n",
       "      <td>2021-07-15</td>\n",
       "      <td>NaN</td>\n",
       "      <td>0</td>\n",
       "      <td>17.0</td>\n",
       "      <td>1.63</td>\n",
       "      <td>176.58</td>\n",
       "      <td>21.9</td>\n",
       "      <td>Furniture</td>\n",
       "      <td>-327.31</td>\n",
       "      <td>10.0</td>\n",
       "      <td>In-Store</td>\n",
       "      <td>Mobile Transfer</td>\n",
       "    </tr>\n",
       "    <tr>\n",
       "      <th>4</th>\n",
       "      <td>Nakuru</td>\n",
       "      <td>2022-08-05</td>\n",
       "      <td>34014.6</td>\n",
       "      <td>1</td>\n",
       "      <td>29.0</td>\n",
       "      <td>1.29</td>\n",
       "      <td>179.93</td>\n",
       "      <td>19.0</td>\n",
       "      <td>Furniture</td>\n",
       "      <td>1092.58</td>\n",
       "      <td>1.0</td>\n",
       "      <td>In-Store</td>\n",
       "      <td>Card Payment</td>\n",
       "    </tr>\n",
       "  </tbody>\n",
       "</table>\n",
       "</div>"
      ],
      "text/plain": [
       "      Store        Date Weekly_Sales Holiday_Flag Temperature Fuel_Price  \\\n",
       "0    Mutare  2025-01-28    166381.87            1        16.2       3.72   \n",
       "1     Mbeya  2024-04-05    187928.14            1        11.9       1.09   \n",
       "2   Chimoio  2022-05-28      unknown            1        15.1       3.88   \n",
       "3  Gaborone  2021-07-15          NaN            0        17.0       1.63   \n",
       "4    Nakuru  2022-08-05      34014.6            1        29.0       1.29   \n",
       "\n",
       "      CPI Unemployment Product_Category   Profit  Quantity Mode_of_Sale  \\\n",
       "0  138.79          3.5              NaN   560.86       1.0     In-Store   \n",
       "1  107.19         12.2        Furniture  1371.46       7.0          NaN   \n",
       "2  103.33          7.7        Beverages    24.50       7.0          NaN   \n",
       "3  176.58         21.9        Furniture  -327.31      10.0     In-Store   \n",
       "4  179.93         19.0        Furniture  1092.58       1.0     In-Store   \n",
       "\n",
       "   Mode_of_Payment  \n",
       "0              NaN  \n",
       "1     Card Payment  \n",
       "2              NaN  \n",
       "3  Mobile Transfer  \n",
       "4     Card Payment  "
      ]
     },
     "execution_count": 194,
     "metadata": {},
     "output_type": "execute_result"
    }
   ],
   "source": [
    "# Checking top 5 rows\n",
    "df.head()"
   ]
  },
  {
   "cell_type": "code",
   "execution_count": 195,
   "id": "f05ab86a-f375-4948-b62a-40e381c85158",
   "metadata": {
    "scrolled": true
   },
   "outputs": [
    {
     "data": {
      "text/html": [
       "<div>\n",
       "<style scoped>\n",
       "    .dataframe tbody tr th:only-of-type {\n",
       "        vertical-align: middle;\n",
       "    }\n",
       "\n",
       "    .dataframe tbody tr th {\n",
       "        vertical-align: top;\n",
       "    }\n",
       "\n",
       "    .dataframe thead th {\n",
       "        text-align: right;\n",
       "    }\n",
       "</style>\n",
       "<table border=\"1\" class=\"dataframe\">\n",
       "  <thead>\n",
       "    <tr style=\"text-align: right;\">\n",
       "      <th></th>\n",
       "      <th>Store</th>\n",
       "      <th>Date</th>\n",
       "      <th>Weekly_Sales</th>\n",
       "      <th>Holiday_Flag</th>\n",
       "      <th>Temperature</th>\n",
       "      <th>Fuel_Price</th>\n",
       "      <th>CPI</th>\n",
       "      <th>Unemployment</th>\n",
       "      <th>Product_Category</th>\n",
       "      <th>Profit</th>\n",
       "      <th>Quantity</th>\n",
       "      <th>Mode_of_Sale</th>\n",
       "      <th>Mode_of_Payment</th>\n",
       "    </tr>\n",
       "  </thead>\n",
       "  <tbody>\n",
       "    <tr>\n",
       "      <th>6430</th>\n",
       "      <td>Dar_es_Salaam</td>\n",
       "      <td>2022-03-28</td>\n",
       "      <td>20708.46</td>\n",
       "      <td>0</td>\n",
       "      <td>39.2</td>\n",
       "      <td>3.18</td>\n",
       "      <td>196.35</td>\n",
       "      <td>8.9</td>\n",
       "      <td>Furniture</td>\n",
       "      <td>1249.65</td>\n",
       "      <td>10.0</td>\n",
       "      <td>Online</td>\n",
       "      <td>Card Payment</td>\n",
       "    </tr>\n",
       "    <tr>\n",
       "      <th>6431</th>\n",
       "      <td>Lusaka</td>\n",
       "      <td>2021-09-23</td>\n",
       "      <td>62136.82</td>\n",
       "      <td>0</td>\n",
       "      <td>31.6</td>\n",
       "      <td>4.41</td>\n",
       "      <td>127.83</td>\n",
       "      <td>3.7</td>\n",
       "      <td>Clothing</td>\n",
       "      <td>NaN</td>\n",
       "      <td>4.0</td>\n",
       "      <td>In-Store</td>\n",
       "      <td>Cash</td>\n",
       "    </tr>\n",
       "    <tr>\n",
       "      <th>6432</th>\n",
       "      <td>Mutare</td>\n",
       "      <td>NaN</td>\n",
       "      <td>169207.59</td>\n",
       "      <td>0</td>\n",
       "      <td>21.9</td>\n",
       "      <td>3.37</td>\n",
       "      <td>105.18</td>\n",
       "      <td>13.6</td>\n",
       "      <td>Clothing</td>\n",
       "      <td>-3.97</td>\n",
       "      <td>5.0</td>\n",
       "      <td>In-Store</td>\n",
       "      <td>Cash</td>\n",
       "    </tr>\n",
       "    <tr>\n",
       "      <th>6433</th>\n",
       "      <td>Gaborone</td>\n",
       "      <td>2022-03-02</td>\n",
       "      <td>14757.25</td>\n",
       "      <td>1</td>\n",
       "      <td>18.4</td>\n",
       "      <td>4.55</td>\n",
       "      <td>135.17</td>\n",
       "      <td>6.0</td>\n",
       "      <td>Furniture</td>\n",
       "      <td>-435.43</td>\n",
       "      <td>9.0</td>\n",
       "      <td>In-Store</td>\n",
       "      <td>Cash</td>\n",
       "    </tr>\n",
       "    <tr>\n",
       "      <th>6434</th>\n",
       "      <td>Eldoret</td>\n",
       "      <td>unknown</td>\n",
       "      <td>135117.52</td>\n",
       "      <td>0</td>\n",
       "      <td>28.1</td>\n",
       "      <td>4.08</td>\n",
       "      <td>145.78</td>\n",
       "      <td>19.1</td>\n",
       "      <td>NaN</td>\n",
       "      <td>557.53</td>\n",
       "      <td>4.0</td>\n",
       "      <td>In-Store</td>\n",
       "      <td>Card Payment</td>\n",
       "    </tr>\n",
       "  </tbody>\n",
       "</table>\n",
       "</div>"
      ],
      "text/plain": [
       "              Store        Date Weekly_Sales Holiday_Flag Temperature  \\\n",
       "6430  Dar_es_Salaam  2022-03-28     20708.46            0        39.2   \n",
       "6431         Lusaka  2021-09-23     62136.82            0        31.6   \n",
       "6432         Mutare         NaN    169207.59            0        21.9   \n",
       "6433       Gaborone  2022-03-02     14757.25            1        18.4   \n",
       "6434        Eldoret     unknown    135117.52            0        28.1   \n",
       "\n",
       "     Fuel_Price     CPI Unemployment Product_Category   Profit  Quantity  \\\n",
       "6430       3.18  196.35          8.9        Furniture  1249.65      10.0   \n",
       "6431       4.41  127.83          3.7         Clothing      NaN       4.0   \n",
       "6432       3.37  105.18         13.6         Clothing    -3.97       5.0   \n",
       "6433       4.55  135.17          6.0        Furniture  -435.43       9.0   \n",
       "6434       4.08  145.78         19.1              NaN   557.53       4.0   \n",
       "\n",
       "     Mode_of_Sale Mode_of_Payment  \n",
       "6430       Online    Card Payment  \n",
       "6431     In-Store            Cash  \n",
       "6432     In-Store            Cash  \n",
       "6433     In-Store            Cash  \n",
       "6434     In-Store    Card Payment  "
      ]
     },
     "execution_count": 195,
     "metadata": {},
     "output_type": "execute_result"
    }
   ],
   "source": [
    "# Checking bottom 5 rows\n",
    "df.tail()"
   ]
  },
  {
   "cell_type": "code",
   "execution_count": 196,
   "id": "c436ccff-99b7-446b-b09a-b69b6ed5956e",
   "metadata": {},
   "outputs": [
    {
     "data": {
      "text/plain": [
       "Index(['Store', 'Date', 'Weekly_Sales', 'Holiday_Flag', 'Temperature',\n",
       "       'Fuel_Price', 'CPI', 'Unemployment', 'Product_Category', 'Profit',\n",
       "       'Quantity', 'Mode_of_Sale', 'Mode_of_Payment'],\n",
       "      dtype='object')"
      ]
     },
     "execution_count": 196,
     "metadata": {},
     "output_type": "execute_result"
    }
   ],
   "source": [
    "# Checking the field names of the data\n",
    "df.columns"
   ]
  },
  {
   "cell_type": "code",
   "execution_count": 197,
   "id": "f98111d5-72d6-48d7-91a9-1bb5f3cd0230",
   "metadata": {},
   "outputs": [
    {
     "data": {
      "text/plain": [
       "Store                object\n",
       "Date                 object\n",
       "Weekly_Sales         object\n",
       "Holiday_Flag         object\n",
       "Temperature          object\n",
       "Fuel_Price           object\n",
       "CPI                  object\n",
       "Unemployment         object\n",
       "Product_Category     object\n",
       "Profit              float64\n",
       "Quantity            float64\n",
       "Mode_of_Sale         object\n",
       "Mode_of_Payment      object\n",
       "dtype: object"
      ]
     },
     "execution_count": 197,
     "metadata": {},
     "output_type": "execute_result"
    }
   ],
   "source": [
    "# Checking for data types\n",
    "df.dtypes"
   ]
  },
  {
   "cell_type": "code",
   "execution_count": 198,
   "id": "17cfd04e-6a5c-4c95-a2f3-e7f6f38c0738",
   "metadata": {},
   "outputs": [
    {
     "name": "stdout",
     "output_type": "stream",
     "text": [
      "<class 'pandas.core.frame.DataFrame'>\n",
      "RangeIndex: 6435 entries, 0 to 6434\n",
      "Data columns (total 13 columns):\n",
      " #   Column            Non-Null Count  Dtype  \n",
      "---  ------            --------------  -----  \n",
      " 0   Store             6340 non-null   object \n",
      " 1   Date              6196 non-null   object \n",
      " 2   Weekly_Sales      5960 non-null   object \n",
      " 3   Holiday_Flag      6299 non-null   object \n",
      " 4   Temperature       6203 non-null   object \n",
      " 5   Fuel_Price        6189 non-null   object \n",
      " 6   CPI               6184 non-null   object \n",
      " 7   Unemployment      6189 non-null   object \n",
      " 8   Product_Category  5488 non-null   object \n",
      " 9   Profit            5797 non-null   float64\n",
      " 10  Quantity          5807 non-null   float64\n",
      " 11  Mode_of_Sale      5940 non-null   object \n",
      " 12  Mode_of_Payment   5732 non-null   object \n",
      "dtypes: float64(2), object(11)\n",
      "memory usage: 653.7+ KB\n"
     ]
    }
   ],
   "source": [
    "# Checking for over all information of our data\n",
    "df.info()"
   ]
  },
  {
   "cell_type": "code",
   "execution_count": 199,
   "id": "35477954-7835-4e0c-874a-d55324132de9",
   "metadata": {},
   "outputs": [
    {
     "data": {
      "text/html": [
       "<style type=\"text/css\">\n",
       "#T_02ee2_row0_col0 {\n",
       "  background-color: #fff5f0;\n",
       "  color: #000000;\n",
       "}\n",
       "#T_02ee2_row1_col0 {\n",
       "  background-color: #fdd3c1;\n",
       "  color: #000000;\n",
       "}\n",
       "#T_02ee2_row2_col0 {\n",
       "  background-color: #fb7b5b;\n",
       "  color: #f1f1f1;\n",
       "}\n",
       "#T_02ee2_row3_col0 {\n",
       "  background-color: #ffede5;\n",
       "  color: #000000;\n",
       "}\n",
       "#T_02ee2_row4_col0 {\n",
       "  background-color: #fdd5c4;\n",
       "  color: #000000;\n",
       "}\n",
       "#T_02ee2_row5_col0, #T_02ee2_row7_col0 {\n",
       "  background-color: #fdd1be;\n",
       "  color: #000000;\n",
       "}\n",
       "#T_02ee2_row6_col0 {\n",
       "  background-color: #fdd0bc;\n",
       "  color: #000000;\n",
       "}\n",
       "#T_02ee2_row8_col0 {\n",
       "  background-color: #67000d;\n",
       "  color: #f1f1f1;\n",
       "}\n",
       "#T_02ee2_row9_col0 {\n",
       "  background-color: #eb372a;\n",
       "  color: #f1f1f1;\n",
       "}\n",
       "#T_02ee2_row10_col0 {\n",
       "  background-color: #ee3a2c;\n",
       "  color: #f1f1f1;\n",
       "}\n",
       "#T_02ee2_row11_col0 {\n",
       "  background-color: #fb7353;\n",
       "  color: #f1f1f1;\n",
       "}\n",
       "#T_02ee2_row12_col0 {\n",
       "  background-color: #d52221;\n",
       "  color: #f1f1f1;\n",
       "}\n",
       "</style>\n",
       "<table id=\"T_02ee2\">\n",
       "  <thead>\n",
       "    <tr>\n",
       "      <th class=\"blank level0\" >&nbsp;</th>\n",
       "      <th id=\"T_02ee2_level0_col0\" class=\"col_heading level0 col0\" >Missing Values</th>\n",
       "    </tr>\n",
       "  </thead>\n",
       "  <tbody>\n",
       "    <tr>\n",
       "      <th id=\"T_02ee2_level0_row0\" class=\"row_heading level0 row0\" >Store</th>\n",
       "      <td id=\"T_02ee2_row0_col0\" class=\"data row0 col0\" >95</td>\n",
       "    </tr>\n",
       "    <tr>\n",
       "      <th id=\"T_02ee2_level0_row1\" class=\"row_heading level0 row1\" >Date</th>\n",
       "      <td id=\"T_02ee2_row1_col0\" class=\"data row1 col0\" >239</td>\n",
       "    </tr>\n",
       "    <tr>\n",
       "      <th id=\"T_02ee2_level0_row2\" class=\"row_heading level0 row2\" >Weekly_Sales</th>\n",
       "      <td id=\"T_02ee2_row2_col0\" class=\"data row2 col0\" >475</td>\n",
       "    </tr>\n",
       "    <tr>\n",
       "      <th id=\"T_02ee2_level0_row3\" class=\"row_heading level0 row3\" >Holiday_Flag</th>\n",
       "      <td id=\"T_02ee2_row3_col0\" class=\"data row3 col0\" >136</td>\n",
       "    </tr>\n",
       "    <tr>\n",
       "      <th id=\"T_02ee2_level0_row4\" class=\"row_heading level0 row4\" >Temperature</th>\n",
       "      <td id=\"T_02ee2_row4_col0\" class=\"data row4 col0\" >232</td>\n",
       "    </tr>\n",
       "    <tr>\n",
       "      <th id=\"T_02ee2_level0_row5\" class=\"row_heading level0 row5\" >Fuel_Price</th>\n",
       "      <td id=\"T_02ee2_row5_col0\" class=\"data row5 col0\" >246</td>\n",
       "    </tr>\n",
       "    <tr>\n",
       "      <th id=\"T_02ee2_level0_row6\" class=\"row_heading level0 row6\" >CPI</th>\n",
       "      <td id=\"T_02ee2_row6_col0\" class=\"data row6 col0\" >251</td>\n",
       "    </tr>\n",
       "    <tr>\n",
       "      <th id=\"T_02ee2_level0_row7\" class=\"row_heading level0 row7\" >Unemployment</th>\n",
       "      <td id=\"T_02ee2_row7_col0\" class=\"data row7 col0\" >246</td>\n",
       "    </tr>\n",
       "    <tr>\n",
       "      <th id=\"T_02ee2_level0_row8\" class=\"row_heading level0 row8\" >Product_Category</th>\n",
       "      <td id=\"T_02ee2_row8_col0\" class=\"data row8 col0\" >947</td>\n",
       "    </tr>\n",
       "    <tr>\n",
       "      <th id=\"T_02ee2_level0_row9\" class=\"row_heading level0 row9\" >Profit</th>\n",
       "      <td id=\"T_02ee2_row9_col0\" class=\"data row9 col0\" >638</td>\n",
       "    </tr>\n",
       "    <tr>\n",
       "      <th id=\"T_02ee2_level0_row10\" class=\"row_heading level0 row10\" >Quantity</th>\n",
       "      <td id=\"T_02ee2_row10_col0\" class=\"data row10 col0\" >628</td>\n",
       "    </tr>\n",
       "    <tr>\n",
       "      <th id=\"T_02ee2_level0_row11\" class=\"row_heading level0 row11\" >Mode_of_Sale</th>\n",
       "      <td id=\"T_02ee2_row11_col0\" class=\"data row11 col0\" >495</td>\n",
       "    </tr>\n",
       "    <tr>\n",
       "      <th id=\"T_02ee2_level0_row12\" class=\"row_heading level0 row12\" >Mode_of_Payment</th>\n",
       "      <td id=\"T_02ee2_row12_col0\" class=\"data row12 col0\" >703</td>\n",
       "    </tr>\n",
       "  </tbody>\n",
       "</table>\n"
      ],
      "text/plain": [
       "<pandas.io.formats.style.Styler at 0x24bc948e990>"
      ]
     },
     "execution_count": 199,
     "metadata": {},
     "output_type": "execute_result"
    }
   ],
   "source": [
    "# Looking for the total count of missing values for each column and presenting them as a frame\n",
    "df.isna().sum().to_frame(name=\"Missing Values\").style.background_gradient(cmap=\"Reds\")\n"
   ]
  },
  {
   "cell_type": "code",
   "execution_count": 200,
   "id": "bffa30ae-e8ca-4c8a-9013-003f5d09b513",
   "metadata": {},
   "outputs": [
    {
     "data": {
      "image/png": "[encoded data removed]",
      "text/plain": [
       "<Figure size 640x480 with 1 Axes>"
      ]
     },
     "metadata": {},
     "output_type": "display_data"
    }
   ],
   "source": [
    "sns.heatmap(df.isnull(), cbar=False, cmap='viridis')\n",
    "plt.title(\"Missing Values Before Cleaning\")\n",
    "plt.savefig(\"missing_values_before _cleaning.jpg\", format = 'jpg')\n",
    "plt.show()\n"
   ]
  },
  {
   "cell_type": "code",
   "execution_count": 201,
   "id": "68b5a101-3de7-457b-be80-b93c3d14c747",
   "metadata": {},
   "outputs": [
    {
     "data": {
      "text/html": [
       "<div>\n",
       "<style scoped>\n",
       "    .dataframe tbody tr th:only-of-type {\n",
       "        vertical-align: middle;\n",
       "    }\n",
       "\n",
       "    .dataframe tbody tr th {\n",
       "        vertical-align: top;\n",
       "    }\n",
       "\n",
       "    .dataframe thead th {\n",
       "        text-align: right;\n",
       "    }\n",
       "</style>\n",
       "<table border=\"1\" class=\"dataframe\">\n",
       "  <thead>\n",
       "    <tr style=\"text-align: right;\">\n",
       "      <th></th>\n",
       "      <th>Profit</th>\n",
       "      <th>Quantity</th>\n",
       "    </tr>\n",
       "  </thead>\n",
       "  <tbody>\n",
       "    <tr>\n",
       "      <th>count</th>\n",
       "      <td>5797.000000</td>\n",
       "      <td>5807.000000</td>\n",
       "    </tr>\n",
       "    <tr>\n",
       "      <th>mean</th>\n",
       "      <td>506.300773</td>\n",
       "      <td>5.514551</td>\n",
       "    </tr>\n",
       "    <tr>\n",
       "      <th>std</th>\n",
       "      <td>573.274660</td>\n",
       "      <td>2.854688</td>\n",
       "    </tr>\n",
       "    <tr>\n",
       "      <th>min</th>\n",
       "      <td>-499.700000</td>\n",
       "      <td>1.000000</td>\n",
       "    </tr>\n",
       "    <tr>\n",
       "      <th>25%</th>\n",
       "      <td>11.060000</td>\n",
       "      <td>3.000000</td>\n",
       "    </tr>\n",
       "    <tr>\n",
       "      <th>50%</th>\n",
       "      <td>505.100000</td>\n",
       "      <td>5.000000</td>\n",
       "    </tr>\n",
       "    <tr>\n",
       "      <th>75%</th>\n",
       "      <td>1007.110000</td>\n",
       "      <td>8.000000</td>\n",
       "    </tr>\n",
       "    <tr>\n",
       "      <th>max</th>\n",
       "      <td>1499.750000</td>\n",
       "      <td>10.000000</td>\n",
       "    </tr>\n",
       "  </tbody>\n",
       "</table>\n",
       "</div>"
      ],
      "text/plain": [
       "            Profit     Quantity\n",
       "count  5797.000000  5807.000000\n",
       "mean    506.300773     5.514551\n",
       "std     573.274660     2.854688\n",
       "min    -499.700000     1.000000\n",
       "25%      11.060000     3.000000\n",
       "50%     505.100000     5.000000\n",
       "75%    1007.110000     8.000000\n",
       "max    1499.750000    10.000000"
      ]
     },
     "execution_count": 201,
     "metadata": {},
     "output_type": "execute_result"
    }
   ],
   "source": [
    "# Get the descriptive statistics of the numeric data\n",
    "df.describe()"
   ]
  },
  {
   "cell_type": "code",
   "execution_count": 202,
   "id": "524b7dc3-fba2-4941-b6d4-e7259d4f3ba7",
   "metadata": {},
   "outputs": [],
   "source": [
    "# Change Date column to datetime for better time series analysis\n",
    "df['Date'] = pd.to_datetime(df['Date'], errors='coerce')\n"
   ]
  },
  {
   "cell_type": "code",
   "execution_count": 203,
   "id": "4db5b861-7fc1-4eb1-a570-d622c06a3265",
   "metadata": {},
   "outputs": [],
   "source": [
    "#Convert Weekly_Sales, Temperature, Fuel_Price, CPI and Unemployment to numeric form\n",
    "cols_to_convert = ['Weekly_Sales', 'Temperature', 'Fuel_Price', 'CPI', 'Unemployment']\n",
    "\n",
    "for col in cols_to_convert:\n",
    "    df[col] = pd.to_numeric(df[col], errors='coerce')\n"
   ]
  },
  {
   "cell_type": "code",
   "execution_count": 204,
   "id": "259e1876-7d46-404f-abf5-fff0025056d4",
   "metadata": {},
   "outputs": [],
   "source": [
    "# Change Store,Product_Category, Mode_of_Sale and Mode of Payment to category type for efficient memory usage and quick analysis\n",
    "categorical_cols = ['Store', 'Product_Category', 'Mode_of_Sale', 'Mode_of_Payment']\n",
    "df[categorical_cols] = df[categorical_cols].astype('category')\n"
   ]
  },
  {
   "cell_type": "code",
   "execution_count": 205,
   "id": "61947130-f836-41e0-b54a-b878950c2cad",
   "metadata": {},
   "outputs": [
    {
     "name": "stdout",
     "output_type": "stream",
     "text": [
      "<class 'pandas.core.frame.DataFrame'>\n",
      "RangeIndex: 6435 entries, 0 to 6434\n",
      "Data columns (total 13 columns):\n",
      " #   Column            Non-Null Count  Dtype         \n",
      "---  ------            --------------  -----         \n",
      " 0   Store             6340 non-null   category      \n",
      " 1   Date              6114 non-null   datetime64[ns]\n",
      " 2   Weekly_Sales      5792 non-null   float64       \n",
      " 3   Holiday_Flag      6299 non-null   object        \n",
      " 4   Temperature       6114 non-null   float64       \n",
      " 5   Fuel_Price        6114 non-null   float64       \n",
      " 6   CPI               6114 non-null   float64       \n",
      " 7   Unemployment      6114 non-null   float64       \n",
      " 8   Product_Category  5488 non-null   category      \n",
      " 9   Profit            5797 non-null   float64       \n",
      " 10  Quantity          5807 non-null   float64       \n",
      " 11  Mode_of_Sale      5940 non-null   category      \n",
      " 12  Mode_of_Payment   5732 non-null   category      \n",
      "dtypes: category(4), datetime64[ns](1), float64(7), object(1)\n",
      "memory usage: 479.6+ KB\n"
     ]
    }
   ],
   "source": [
    "df.info()"
   ]
  },
  {
   "cell_type": "code",
   "execution_count": 206,
   "id": "212307da-d882-44af-8f77-d4461a030ac1",
   "metadata": {},
   "outputs": [],
   "source": [
    "# Create YearMonth column \n",
    "df['YearMonth'] = df['Date'].dt.to_period('M')\n"
   ]
  },
  {
   "cell_type": "code",
   "execution_count": 207,
   "id": "5b74d27f-92d9-412f-a75f-2d344596ed73",
   "metadata": {},
   "outputs": [],
   "source": [
    "# Fill the missing CPI values within Store + YearMonth since CPI is updated monthly\n",
    "df['CPI'] = df.groupby(['Store', 'YearMonth'], observed=False)['CPI'].transform(lambda x: x.ffill().bfill())\n",
    "\n",
    "# Fill remaining with Store-level patterns\n",
    "df['CPI'] = df.groupby('Store', observed=False)['CPI'].transform(lambda x: x.ffill().bfill())\n",
    "\n",
    "# Final fallback fill (global)\n",
    "df['CPI'] = df['CPI'].ffill().bfill()\n"
   ]
  },
  {
   "cell_type": "code",
   "execution_count": 208,
   "id": "4ccd5a0f-bb72-41c1-a839-114633d42d24",
   "metadata": {},
   "outputs": [],
   "source": [
    "\n",
    "# Fill missing values in Unemployment using forward and backward fill within each Store and YearMonth\n",
    "df['Unemployment'] = df.groupby(['Store', 'YearMonth'], observed=False)['Unemployment'].transform(lambda x: x.ffill().bfill())\n",
    "\n",
    "# If still missing, try within Store only\n",
    "df['Unemployment'] = df.groupby('Store', observed=False)['Unemployment'].transform(lambda x: x.ffill().bfill())\n",
    "\n",
    "# Final fill using overall forward and backward fill\n",
    "df['Unemployment'] = df['Unemployment'].ffill().bfill()\n"
   ]
  },
  {
   "cell_type": "code",
   "execution_count": 209,
   "id": "7e6fd288-5e9f-422e-b024-8502438ff48c",
   "metadata": {},
   "outputs": [],
   "source": [
    "# Add \"Unknown\" to the existing categories\n",
    "df['Store'] = df['Store'].cat.add_categories('Unknown')\n",
    "\n",
    "# Fill missing values in Store field with \"Unknown\"\n",
    "df['Store'] = df['Store'].fillna('Unknown')\n"
   ]
  },
  {
   "cell_type": "code",
   "execution_count": 210,
   "id": "4f275534-ea5c-4849-9044-771356878597",
   "metadata": {},
   "outputs": [],
   "source": [
    "# Sort by Store and Date\n",
    "df = df.sort_values(['Store', 'Date'])\n",
    "\n",
    "# Fix missing Date values using 7-day intervals since data is on weekly basis\n",
    "df['Date'] = (\n",
    "    df.groupby('Store', observed=False)['Date']\n",
    "      .transform(lambda group: group.ffill() + pd.to_timedelta(group.isna().cumsum() * 7, unit='D'))\n",
    ")\n",
    "\n",
    "\n"
   ]
  },
  {
   "cell_type": "code",
   "execution_count": 211,
   "id": "7085e7e5-ba4f-4136-af86-02c2f7d013c7",
   "metadata": {},
   "outputs": [],
   "source": [
    "# Filling the missing values in Weekly_Sales field.  First we fill using Store + Week mean \n",
    "# Create a 'Week' column from the 'Date' to group by week\n",
    "df['Week'] = df['Date'].dt.isocalendar().week\n",
    "\n",
    "# Fill missing Weekly_Sales with the mean for each Store and Week\n",
    "df['Weekly_Sales'] = df.groupby(['Store', 'Week'], observed=False)['Weekly_Sales'].transform(lambda x: x.fillna(x.mean()))\n",
    "\n",
    "# Fallback: fill remaining NaNs using overall Store average\n",
    "df['Weekly_Sales'] = df.groupby('Store', observed=False)['Weekly_Sales'].transform(lambda x: x.fillna(x.mean()))\n"
   ]
  },
  {
   "cell_type": "code",
   "execution_count": 212,
   "id": "c9620cf0-be16-4de6-a35b-8b9c29ec2f3b",
   "metadata": {},
   "outputs": [],
   "source": [
    "\n",
    "# Fill missing with 'Unknown'\n",
    "df['Holiday_Flag'] = df['Holiday_Flag'].fillna('Unknown')\n",
    "# Convert to bool Type\n",
    "df['Holiday_Flag'] = df['Holiday_Flag'].astype(bool)\n"
   ]
  },
  {
   "cell_type": "code",
   "execution_count": 213,
   "id": "7a1e9073-908b-4419-8dec-49ef000ed6df",
   "metadata": {},
   "outputs": [],
   "source": [
    "#Create YearWeek column\n",
    "df['YearWeek'] = df['Date'].dt.strftime('%Y-%U')\n"
   ]
  },
  {
   "cell_type": "code",
   "execution_count": 214,
   "id": "c79ecc59-5dd2-425b-baae-deff798d60a2",
   "metadata": {},
   "outputs": [],
   "source": [
    "\n",
    "#  Fill the missing value in Tempearature field by Store + YearWeek group mean\n",
    "df['Temperature'] = df.groupby(['Store', 'YearWeek'], observed=False)['Temperature'].transform(\n",
    "    lambda x: x.fillna(x.mean())\n",
    ")\n",
    "\n",
    "# If NaN still exist Fill by Store overall mean\n",
    "df['Temperature'] = df.groupby('Store', observed=False)['Temperature'].transform(\n",
    "    lambda x: x.fillna(x.mean())\n",
    ")\n",
    "\n",
    "#  Then Fill remaining with global mean (final safety net)\n",
    "df['Temperature'] = df['Temperature'].fillna(df['Temperature'].mean())\n",
    "\n",
    "\n"
   ]
  },
  {
   "cell_type": "code",
   "execution_count": 215,
   "id": "6791c183-a7a0-42af-b1ef-95fd7ff28802",
   "metadata": {},
   "outputs": [],
   "source": [
    "# Fill the missing value in Fuel_Price field  by Store + YearWeek group mean\n",
    "df['Fuel_Price'] = df.groupby(['Store', 'YearWeek'], observed=False)['Fuel_Price'].transform(\n",
    "    lambda x: x.fillna(x.mean())\n",
    ")\n",
    "\n",
    "# Fill remaining with Store-level mean\n",
    "df['Fuel_Price'] = df.groupby('Store', observed=False)['Fuel_Price'].transform(\n",
    "    lambda x: x.fillna(x.mean())\n",
    ")\n",
    "\n",
    "#  Fill any leftovers with overall mean\n",
    "df['Fuel_Price'] = df['Fuel_Price'].fillna(df['Fuel_Price'].mean())\n"
   ]
  },
  {
   "cell_type": "code",
   "execution_count": 216,
   "id": "66f3ac91-f3b1-469a-986a-16b4bb0c585a",
   "metadata": {},
   "outputs": [],
   "source": [
    "# For the Product_Category field Add 'Unknown' to the category list\n",
    "df['Product_Category'] = df['Product_Category'].cat.add_categories('Unknown')\n",
    "\n",
    "# Then Fill missing values with 'Unknown'\n",
    "df['Product_Category'] = df['Product_Category'].fillna('Unknown')\n"
   ]
  },
  {
   "cell_type": "code",
   "execution_count": 217,
   "id": "04077b50-fe89-4467-a84d-e66a24ecbe61",
   "metadata": {},
   "outputs": [],
   "source": [
    "#  Add 'Unknown' as a valid category\n",
    "df['Mode_of_Payment'] = df['Mode_of_Payment'].cat.add_categories('Unknown')\n",
    "\n",
    "# Fill missing values with 'Unknown'\n",
    "df['Mode_of_Payment'] = df['Mode_of_Payment'].fillna('Unknown')\n"
   ]
  },
  {
   "cell_type": "code",
   "execution_count": 218,
   "id": "fc0153ba-482e-46ad-b255-fd4dd7032565",
   "metadata": {},
   "outputs": [],
   "source": [
    "#  Add 'Unknown' as a valid category\n",
    "df['Mode_of_Sale'] = df['Mode_of_Sale'].cat.add_categories('Unknown')\n",
    "\n",
    "#  Fill missing values with 'Unknown'\n",
    "df['Mode_of_Sale'] = df['Mode_of_Sale'].fillna('Unknown')\n"
   ]
  },
  {
   "cell_type": "code",
   "execution_count": 219,
   "id": "d8cdbc53-2359-4012-a360-ab26f0f566c9",
   "metadata": {},
   "outputs": [],
   "source": [
    "#  For the Profit field, fill Missing values based on Store & Week\n",
    "df['Profit'] = df.groupby(['Store', 'YearWeek'], observed=False)['Profit'].transform(lambda x: x.fillna(x.mean()))\n",
    "\n",
    "# Fill any remaining with overall Store average\n",
    "df['Profit'] = df.groupby('Store', observed=False)['Profit'].transform(lambda x: x.fillna(x.mean()))\n"
   ]
  },
  {
   "cell_type": "code",
   "execution_count": 220,
   "id": "96737115-c538-42f9-bffd-38ba07900387",
   "metadata": {},
   "outputs": [],
   "source": [
    "# Quantity field: Fill Missing Values using Store and YearWeek average\n",
    "df['Quantity'] = df.groupby(['Store', 'YearWeek'], observed=False)['Quantity'].transform(lambda x: x.fillna(x.mean()))\n",
    "\n",
    "# Fill remaining using overall Store average\n",
    "df['Quantity'] = df.groupby('Store', observed=False)['Quantity'].transform(lambda x: x.fillna(x.mean()))\n"
   ]
  },
  {
   "cell_type": "code",
   "execution_count": 221,
   "id": "ce0fe9bc-7ccb-4b9e-b4cb-7630e7db3ad5",
   "metadata": {},
   "outputs": [],
   "source": [
    "df['YearMonth'] = df['Date'].dt.to_period('M')"
   ]
  },
  {
   "cell_type": "code",
   "execution_count": 222,
   "id": "0bf6c832-d7c8-4968-b6d6-bb11e8a6223c",
   "metadata": {},
   "outputs": [
    {
     "name": "stdout",
     "output_type": "stream",
     "text": [
      "<class 'pandas.core.frame.DataFrame'>\n",
      "Index: 6435 entries, 1745 to 5395\n",
      "Data columns (total 16 columns):\n",
      " #   Column            Non-Null Count  Dtype         \n",
      "---  ------            --------------  -----         \n",
      " 0   Store             6435 non-null   category      \n",
      " 1   Date              6435 non-null   datetime64[ns]\n",
      " 2   Weekly_Sales      6435 non-null   float64       \n",
      " 3   Holiday_Flag      6435 non-null   bool          \n",
      " 4   Temperature       6435 non-null   float64       \n",
      " 5   Fuel_Price        6435 non-null   float64       \n",
      " 6   CPI               6435 non-null   float64       \n",
      " 7   Unemployment      6435 non-null   float64       \n",
      " 8   Product_Category  6435 non-null   category      \n",
      " 9   Profit            6435 non-null   float64       \n",
      " 10  Quantity          6435 non-null   float64       \n",
      " 11  Mode_of_Sale      6435 non-null   category      \n",
      " 12  Mode_of_Payment   6435 non-null   category      \n",
      " 13  YearMonth         6435 non-null   period[M]     \n",
      " 14  Week              6435 non-null   UInt32        \n",
      " 15  YearWeek          6435 non-null   object        \n",
      "dtypes: UInt32(1), bool(1), category(4), datetime64[ns](1), float64(7), object(1), period[M](1)\n",
      "memory usage: 617.8+ KB\n"
     ]
    }
   ],
   "source": [
    "#Quick scan of the data after cleaning\n",
    "df.info()"
   ]
  },
  {
   "cell_type": "code",
   "execution_count": 223,
   "id": "caf6efbf-e67f-4aaa-96d2-90076630420d",
   "metadata": {},
   "outputs": [
    {
     "data": {
      "image/png": "[encoded data removed]",
      "text/plain": [
       "<Figure size 640x480 with 1 Axes>"
      ]
     },
     "metadata": {},
     "output_type": "display_data"
    }
   ],
   "source": [
    "sns.heatmap(df.isnull(), cbar=False, cmap='viridis')\n",
    "plt.title(\"Missing Values After Cleaning\")\n",
    "plt.savefig(\"missing_values_after_cleaning.jpg\", format = 'jpg')\n",
    "plt.show()"
   ]
  },
  {
   "cell_type": "code",
   "execution_count": 224,
   "id": "8df595cd-3669-4fc9-b676-44dd771d79fe",
   "metadata": {},
   "outputs": [
    {
     "data": {
      "text/plain": [
       "np.int64(0)"
      ]
     },
     "execution_count": 224,
     "metadata": {},
     "output_type": "execute_result"
    }
   ],
   "source": [
    "# Checking for duplicates\n",
    "df.duplicated().sum()"
   ]
  },
  {
   "cell_type": "code",
   "execution_count": 225,
   "id": "cda63cbe-0a38-484d-9a00-4b8063e4e033",
   "metadata": {},
   "outputs": [],
   "source": [
    "# Save the cleaned data as csv file. (Same location as the raw data)\n",
    "df.to_csv(r\"C:\\Users\\USER\\Downloads\\clean_entropi_supermarkets_data.csv\", index=False)\n"
   ]
  },
  {
   "cell_type": "code",
   "execution_count": null,
   "id": "b43c57a8-e11a-499e-8540-426960266111",
   "metadata": {},
   "outputs": [],
   "source": []
  }
 ],
 "metadata": {
  "kernelspec": {
   "display_name": "Python 3 (ipykernel)",
   "language": "python",
   "name": "python3"
  },
  "language_info": {
   "codemirror_mode": {
    "name": "ipython",
    "version": 3
   },
   "file_extension": ".py",
   "mimetype": "text/x-python",
   "name": "python",
   "nbconvert_exporter": "python",
   "pygments_lexer": "ipython3",
   "version": "3.13.2"
  }
 },
 "nbformat": 4,
 "nbformat_minor": 5
}
